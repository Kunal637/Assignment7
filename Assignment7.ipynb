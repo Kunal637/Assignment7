{
 "cells": [
  {
   "cell_type": "markdown",
   "id": "dfde29fd",
   "metadata": {},
   "source": [
    "## Using OOP"
   ]
  },
  {
   "cell_type": "code",
   "execution_count": 24,
   "id": "c580c896",
   "metadata": {},
   "outputs": [],
   "source": [
    "\n",
    "class Employee:\n",
    "    def __init__(self, name, number, address, salary, post, year_of_joining, education, year_of_experience):\n",
    "        self.name = name\n",
    "        self.number = number\n",
    "        self.address = address\n",
    "        self.salary = salary\n",
    "        self.post = post\n",
    "        self.year_of_joining = year_of_joining\n",
    "        self.education = education\n",
    "        self.year_of_experience = year_of_experience\n",
    "\n",
    "    def describe_employee(self):\n",
    "        print(f\"Name: {self.name}\")\n",
    "        print(f\"Number: {self.number}\")\n",
    "        print(f\"Address: {self.address}\")\n",
    "        print(f\"Salary: {self.salary}\")\n",
    "        print(f\"Post: {self.post}\")\n",
    "        print(f\"Year of Joining: {self.year_of_joining}\")\n",
    "        print(f\"Education: {self.education}\")\n",
    "        print(f\"Year of Experience: {self.year_of_experience}\")\n",
    "\n",
    "    def update_year_of_experience(self, new_experience):\n",
    "        self.year_of_experience = new_experience\n",
    "        print(f\"{self.name}'s year of experience updated to {self.year_of_experience} years.\")\n",
    "\n",
    "    def increase_salary(self, increment_amount):\n",
    "        self.salary += increment_amount\n",
    "        print(f\"{self.name}'s salary increased by {increment_amount}. New salary: {self.salary}\")\n",
    "\n"
   ]
  },
  {
   "cell_type": "code",
   "execution_count": 25,
   "id": "9065f019",
   "metadata": {},
   "outputs": [],
   "source": [
    "employee101 = Employee(\"Ali Khan\", \"101\", \"123 Main St, Karachi\", 80000, \"Software Engineer\", 2020, \"B.Sc. in Computer Science\", 3)"
   ]
  },
  {
   "cell_type": "code",
   "execution_count": 26,
   "id": "c5df79e5",
   "metadata": {},
   "outputs": [
    {
     "name": "stdout",
     "output_type": "stream",
     "text": [
      "Ali Khan\n",
      "101\n",
      "123 Main St, Karachi\n",
      "80000\n"
     ]
    }
   ],
   "source": [
    "print(employee101.name)\n",
    "print(employee101.number)\n",
    "print(employee101.address)\n",
    "print(employee101.salary)"
   ]
  },
  {
   "cell_type": "code",
   "execution_count": 27,
   "id": "ef3797e2",
   "metadata": {},
   "outputs": [
    {
     "name": "stdout",
     "output_type": "stream",
     "text": [
      "Name: Ali Khan\n",
      "Number: 101\n",
      "Address: 123 Main St, Karachi\n",
      "Salary: 80000\n",
      "Post: Software Engineer\n",
      "Year of Joining: 2020\n",
      "Education: B.Sc. in Computer Science\n",
      "Year of Experience: 3\n",
      "Ali Khan's salary increased by 10000. New salary: 90000\n",
      "Ali Khan's year of experience updated to 4 years.\n"
     ]
    }
   ],
   "source": [
    "employee101.describe_employee()\n",
    "employee101.increase_salary(10000)\n",
    "employee101.update_year_of_experience(4)"
   ]
  },
  {
   "cell_type": "code",
   "execution_count": 28,
   "id": "cd45b238",
   "metadata": {},
   "outputs": [],
   "source": [
    "employees = [\n",
    "    Employee(\"Ayesha Malik\", \"102\", \"456 Oak Ave, Lahore\", 90000, \"Data Analyst\", 2018, \"M.Sc. in Data Science\", 5),\n",
    "    Employee(\"Rahul Sharma\", \"103\", \"789 Pine Rd, Delhi\", 85000, \"Web Developer\", 2019, \"B.Sc. in IT\", 4),\n",
    "    Employee(\"Zara Ahmed\", \"104\", \"135 Maple Blvd, Islamabad\", 70000, \"System Admin\", 2017, \"B.Tech in Networking\", 6),\n",
    "    Employee(\"Arjun Singh\", \"105\", \"246 Cedar Ln, Mumbai\", 78000, \"Database Administrator\", 2016, \"M.Sc. in Computer Science\", 7),\n",
    "    Employee(\"Sara Siddiqui\", \"106\", \"357 Birch Ct, Hyderabad\", 87000, \"Network Engineer\", 2020, \"B.Sc. in Network Engineering\", 3),\n",
    "    Employee(\"Vikram Patel\", \"107\", \"468 Elm St, Bangalore\", 92000, \"Software Developer\", 2015, \"M.Sc. in Software Engineering\", 8),\n",
    "    Employee(\"Hina Qureshi\", \"108\", \"579 Spruce Way, Karachi\", 91000, \"DevOps Engineer\", 2018, \"M.Sc. in DevOps\", 5),\n",
    "    Employee(\"Rohan Kumar\", \"109\", \"680 Willow Dr, Chennai\", 79000, \"Technical Support\", 2019, \"B.Sc. in Computer Science\", 4),\n",
    "    Employee(\"Anam Khan\", \"110\", \"791 Aspen Ave, Lahore\", 83000, \"UX/UI Designer\", 2021, \"B.Des. in Design\", 2),\n",
    "    Employee(\"Sameer Ali\", \"111\", \"902 Redwood Pl, Pune\", 75000, \"QA Engineer\", 2017, \"B.Tech in Software Testing\", 6)\n",
    "]\n"
   ]
  },
  {
   "cell_type": "code",
   "execution_count": 29,
   "id": "a39fccc6",
   "metadata": {},
   "outputs": [
    {
     "name": "stdout",
     "output_type": "stream",
     "text": [
      "Name: Ayesha Malik\n",
      "Number: 102\n",
      "Address: 456 Oak Ave, Lahore\n",
      "Salary: 90000\n",
      "Post: Data Analyst\n",
      "Year of Joining: 2018\n",
      "Education: M.Sc. in Data Science\n",
      "Year of Experience: 5\n",
      "Name: Rahul Sharma\n",
      "Number: 103\n",
      "Address: 789 Pine Rd, Delhi\n",
      "Salary: 85000\n",
      "Post: Web Developer\n",
      "Year of Joining: 2019\n",
      "Education: B.Sc. in IT\n",
      "Year of Experience: 4\n",
      "Name: Zara Ahmed\n",
      "Number: 104\n",
      "Address: 135 Maple Blvd, Islamabad\n",
      "Salary: 70000\n",
      "Post: System Admin\n",
      "Year of Joining: 2017\n",
      "Education: B.Tech in Networking\n",
      "Year of Experience: 6\n",
      "Name: Arjun Singh\n",
      "Number: 105\n",
      "Address: 246 Cedar Ln, Mumbai\n",
      "Salary: 78000\n",
      "Post: Database Administrator\n",
      "Year of Joining: 2016\n",
      "Education: M.Sc. in Computer Science\n",
      "Year of Experience: 7\n",
      "Name: Sara Siddiqui\n",
      "Number: 106\n",
      "Address: 357 Birch Ct, Hyderabad\n",
      "Salary: 87000\n",
      "Post: Network Engineer\n",
      "Year of Joining: 2020\n",
      "Education: B.Sc. in Network Engineering\n",
      "Year of Experience: 3\n",
      "Name: Vikram Patel\n",
      "Number: 107\n",
      "Address: 468 Elm St, Bangalore\n",
      "Salary: 92000\n",
      "Post: Software Developer\n",
      "Year of Joining: 2015\n",
      "Education: M.Sc. in Software Engineering\n",
      "Year of Experience: 8\n",
      "Name: Hina Qureshi\n",
      "Number: 108\n",
      "Address: 579 Spruce Way, Karachi\n",
      "Salary: 91000\n",
      "Post: DevOps Engineer\n",
      "Year of Joining: 2018\n",
      "Education: M.Sc. in DevOps\n",
      "Year of Experience: 5\n",
      "Name: Rohan Kumar\n",
      "Number: 109\n",
      "Address: 680 Willow Dr, Chennai\n",
      "Salary: 79000\n",
      "Post: Technical Support\n",
      "Year of Joining: 2019\n",
      "Education: B.Sc. in Computer Science\n",
      "Year of Experience: 4\n",
      "Name: Anam Khan\n",
      "Number: 110\n",
      "Address: 791 Aspen Ave, Lahore\n",
      "Salary: 83000\n",
      "Post: UX/UI Designer\n",
      "Year of Joining: 2021\n",
      "Education: B.Des. in Design\n",
      "Year of Experience: 2\n",
      "Name: Sameer Ali\n",
      "Number: 111\n",
      "Address: 902 Redwood Pl, Pune\n",
      "Salary: 75000\n",
      "Post: QA Engineer\n",
      "Year of Joining: 2017\n",
      "Education: B.Tech in Software Testing\n",
      "Year of Experience: 6\n"
     ]
    }
   ],
   "source": [
    "for emp in employees:\n",
    "    emp.describe_employee()\n",
    "\n"
   ]
  },
  {
   "cell_type": "code",
   "execution_count": 30,
   "id": "2d60e04b",
   "metadata": {},
   "outputs": [
    {
     "name": "stdout",
     "output_type": "stream",
     "text": [
      "Ayesha Malik's salary increased by 5000. New salary: 95000\n",
      "Ayesha Malik's year of experience updated to 6 years.\n",
      "Rahul Sharma's salary increased by 6000. New salary: 91000\n",
      "Rahul Sharma's year of experience updated to 5 years.\n"
     ]
    }
   ],
   "source": [
    "employees[0].increase_salary(5000)\n",
    "employees[0].update_year_of_experience(6)\n",
    "employees[1].increase_salary(6000)\n",
    "employees[1].update_year_of_experience(5)"
   ]
  },
  {
   "cell_type": "code",
   "execution_count": null,
   "id": "b714beb7",
   "metadata": {},
   "outputs": [],
   "source": []
  },
  {
   "cell_type": "code",
   "execution_count": null,
   "id": "3d825fb9",
   "metadata": {},
   "outputs": [],
   "source": []
  },
  {
   "cell_type": "markdown",
   "id": "96e4b3ab",
   "metadata": {},
   "source": [
    "## Without OOP"
   ]
  },
  {
   "cell_type": "code",
   "execution_count": 14,
   "id": "c7c42405",
   "metadata": {},
   "outputs": [],
   "source": [
    "def describe_employee(employee):\n",
    "    print(f\"Name: {employee['name']}\")\n",
    "    print(f\"Number: {employee['number']}\")\n",
    "    print(f\"Address: {employee['address']}\")\n",
    "    print(f\"Salary: {employee['salary']}\")\n",
    "    print(f\"Post: {employee['post']}\")\n",
    "    print(f\"Year of Joining: {employee['year_of_joining']}\")\n",
    "    print(f\"Education: {employee['education']}\")\n",
    "    print(f\"Year of Experience: {employee['year_of_experience']}\")\n"
   ]
  },
  {
   "cell_type": "code",
   "execution_count": 15,
   "id": "3e0d4b1f",
   "metadata": {},
   "outputs": [],
   "source": [
    "def update_year_of_experience(employee, new_experience):\n",
    "    employee['year_of_experience'] = new_experience\n",
    "    print(f\"{employee['name']}'s year of experience updated to {employee['year_of_experience']} years.\")"
   ]
  },
  {
   "cell_type": "code",
   "execution_count": 16,
   "id": "44e888e2",
   "metadata": {},
   "outputs": [],
   "source": [
    "def increase_salary(employee, increment_amount):\n",
    "    employee['salary'] += increment_amount\n",
    "    print(f\"{employee['name']}'s salary increased by {increment_amount}. New salary: {employee['salary']}\")\n"
   ]
  },
  {
   "cell_type": "code",
   "execution_count": 17,
   "id": "d9f6eccb",
   "metadata": {},
   "outputs": [],
   "source": [
    "employee101 = {\n",
    "    \"name\": \"Ali Khan\",\n",
    "    \"number\": \"101\",\n",
    "    \"address\": \"123 Main St, Karachi\",\n",
    "    \"salary\": 80000,\n",
    "    \"post\": \"Software Engineer\",\n",
    "    \"year_of_joining\": 2020,\n",
    "    \"education\": \"B.Sc. in Computer Science\",\n",
    "    \"year_of_experience\": 3\n",
    "}\n"
   ]
  },
  {
   "cell_type": "code",
   "execution_count": 18,
   "id": "28ce9b2e",
   "metadata": {},
   "outputs": [
    {
     "name": "stdout",
     "output_type": "stream",
     "text": [
      "Ali Khan\n",
      "101\n",
      "123 Main St, Karachi\n",
      "80000\n"
     ]
    }
   ],
   "source": [
    "print(employee101['name'])\n",
    "print(employee101['number'])\n",
    "print(employee101['address'])\n",
    "print(employee101['salary'])"
   ]
  },
  {
   "cell_type": "code",
   "execution_count": 19,
   "id": "578738ee",
   "metadata": {},
   "outputs": [
    {
     "name": "stdout",
     "output_type": "stream",
     "text": [
      "Name: Ali Khan\n",
      "Number: 101\n",
      "Address: 123 Main St, Karachi\n",
      "Salary: 80000\n",
      "Post: Software Engineer\n",
      "Year of Joining: 2020\n",
      "Education: B.Sc. in Computer Science\n",
      "Year of Experience: 3\n",
      "Ali Khan's salary increased by 10000. New salary: 90000\n",
      "Ali Khan's year of experience updated to 4 years.\n"
     ]
    }
   ],
   "source": [
    "describe_employee(employee101)\n",
    "increase_salary(employee101, 10000)\n",
    "update_year_of_experience(employee101, 4)"
   ]
  },
  {
   "cell_type": "code",
   "execution_count": 20,
   "id": "66de81ab",
   "metadata": {},
   "outputs": [],
   "source": [
    "employees = [\n",
    "    {\"name\": \"Ayesha Malik\", \"number\": \"102\", \"address\": \"456 Oak Ave, Lahore\", \"salary\": 90000, \"post\": \"Data Analyst\", \"year_of_joining\": 2018, \"education\": \"M.Sc. in Data Science\", \"year_of_experience\": 5},\n",
    "    {\"name\": \"Rahul Sharma\", \"number\": \"103\", \"address\": \"789 Pine Rd, Delhi\", \"salary\": 85000, \"post\": \"Web Developer\", \"year_of_joining\": 2019, \"education\": \"B.Sc. in IT\", \"year_of_experience\": 4},\n",
    "    {\"name\": \"Zara Ahmed\", \"number\": \"104\", \"address\": \"135 Maple Blvd, Islamabad\", \"salary\": 70000, \"post\": \"System Admin\", \"year_of_joining\": 2017, \"education\": \"B.Tech in Networking\", \"year_of_experience\": 6},\n",
    "    {\"name\": \"Arjun Singh\", \"number\": \"105\", \"address\": \"246 Cedar Ln, Mumbai\", \"salary\": 78000, \"post\": \"Database Administrator\", \"year_of_joining\": 2016, \"education\": \"M.Sc. in Computer Science\", \"year_of_experience\": 7},\n",
    "    {\"name\": \"Sara Siddiqui\", \"number\": \"106\", \"address\": \"357 Birch Ct, Hyderabad\", \"salary\": 87000, \"post\": \"Network Engineer\", \"year_of_joining\": 2020, \"education\": \"B.Sc. in Network Engineering\", \"year_of_experience\": 3},\n",
    "    {\"name\": \"Vikram Patel\", \"number\": \"107\", \"address\": \"468 Elm St, Bangalore\", \"salary\": 92000, \"post\": \"Software Developer\", \"year_of_joining\": 2015, \"education\": \"M.Sc. in Software Engineering\", \"year_of_experience\": 8},\n",
    "    {\"name\": \"Hina Qureshi\", \"number\": \"108\", \"address\": \"579 Spruce Way, Karachi\", \"salary\": 91000, \"post\": \"DevOps Engineer\", \"year_of_joining\": 2018, \"education\": \"M.Sc. in DevOps\", \"year_of_experience\": 5},\n",
    "    {\"name\": \"Rohan Kumar\", \"number\": \"109\", \"address\": \"680 Willow Dr, Chennai\", \"salary\": 79000, \"post\": \"Technical Support\", \"year_of_joining\": 2019, \"education\": \"B.Sc. in Computer Science\", \"year_of_experience\": 4},\n",
    "    {\"name\": \"Anam Khan\", \"number\": \"110\", \"address\": \"791 Aspen Ave, Lahore\", \"salary\": 83000, \"post\": \"UX/UI Designer\", \"year_of_joining\": 2021, \"education\": \"B.Des. in Design\", \"year_of_experience\": 2},\n",
    "    {\"name\": \"Sameer Ali\", \"number\": \"111\", \"address\": \"902 Redwood Pl, Pune\", \"salary\": 75000, \"post\": \"QA Engineer\", \"year_of_joining\": 2017, \"education\": \"B.Tech in Software Testing\", \"year_of_experience\": 6}\n",
    "]"
   ]
  },
  {
   "cell_type": "code",
   "execution_count": 21,
   "id": "2e175b10",
   "metadata": {},
   "outputs": [
    {
     "name": "stdout",
     "output_type": "stream",
     "text": [
      "Name: Ayesha Malik\n",
      "Number: 102\n",
      "Address: 456 Oak Ave, Lahore\n",
      "Salary: 90000\n",
      "Post: Data Analyst\n",
      "Year of Joining: 2018\n",
      "Education: M.Sc. in Data Science\n",
      "Year of Experience: 5\n",
      "Name: Rahul Sharma\n",
      "Number: 103\n",
      "Address: 789 Pine Rd, Delhi\n",
      "Salary: 85000\n",
      "Post: Web Developer\n",
      "Year of Joining: 2019\n",
      "Education: B.Sc. in IT\n",
      "Year of Experience: 4\n",
      "Name: Zara Ahmed\n",
      "Number: 104\n",
      "Address: 135 Maple Blvd, Islamabad\n",
      "Salary: 70000\n",
      "Post: System Admin\n",
      "Year of Joining: 2017\n",
      "Education: B.Tech in Networking\n",
      "Year of Experience: 6\n",
      "Name: Arjun Singh\n",
      "Number: 105\n",
      "Address: 246 Cedar Ln, Mumbai\n",
      "Salary: 78000\n",
      "Post: Database Administrator\n",
      "Year of Joining: 2016\n",
      "Education: M.Sc. in Computer Science\n",
      "Year of Experience: 7\n",
      "Name: Sara Siddiqui\n",
      "Number: 106\n",
      "Address: 357 Birch Ct, Hyderabad\n",
      "Salary: 87000\n",
      "Post: Network Engineer\n",
      "Year of Joining: 2020\n",
      "Education: B.Sc. in Network Engineering\n",
      "Year of Experience: 3\n",
      "Name: Vikram Patel\n",
      "Number: 107\n",
      "Address: 468 Elm St, Bangalore\n",
      "Salary: 92000\n",
      "Post: Software Developer\n",
      "Year of Joining: 2015\n",
      "Education: M.Sc. in Software Engineering\n",
      "Year of Experience: 8\n",
      "Name: Hina Qureshi\n",
      "Number: 108\n",
      "Address: 579 Spruce Way, Karachi\n",
      "Salary: 91000\n",
      "Post: DevOps Engineer\n",
      "Year of Joining: 2018\n",
      "Education: M.Sc. in DevOps\n",
      "Year of Experience: 5\n",
      "Name: Rohan Kumar\n",
      "Number: 109\n",
      "Address: 680 Willow Dr, Chennai\n",
      "Salary: 79000\n",
      "Post: Technical Support\n",
      "Year of Joining: 2019\n",
      "Education: B.Sc. in Computer Science\n",
      "Year of Experience: 4\n",
      "Name: Anam Khan\n",
      "Number: 110\n",
      "Address: 791 Aspen Ave, Lahore\n",
      "Salary: 83000\n",
      "Post: UX/UI Designer\n",
      "Year of Joining: 2021\n",
      "Education: B.Des. in Design\n",
      "Year of Experience: 2\n",
      "Name: Sameer Ali\n",
      "Number: 111\n",
      "Address: 902 Redwood Pl, Pune\n",
      "Salary: 75000\n",
      "Post: QA Engineer\n",
      "Year of Joining: 2017\n",
      "Education: B.Tech in Software Testing\n",
      "Year of Experience: 6\n"
     ]
    }
   ],
   "source": [
    "for emp in employees:\n",
    "    describe_employee(emp)"
   ]
  },
  {
   "cell_type": "code",
   "execution_count": 22,
   "id": "c550488b",
   "metadata": {},
   "outputs": [
    {
     "name": "stdout",
     "output_type": "stream",
     "text": [
      "Ayesha Malik's salary increased by 5000. New salary: 95000\n",
      "Ayesha Malik's year of experience updated to 6 years.\n",
      "Rahul Sharma's salary increased by 6000. New salary: 91000\n",
      "Rahul Sharma's year of experience updated to 5 years.\n"
     ]
    }
   ],
   "source": [
    "increase_salary(employees[0], 5000)\n",
    "update_year_of_experience(employees[0], 6)\n",
    "increase_salary(employees[1], 6000)\n",
    "update_year_of_experience(employees[1], 5)"
   ]
  },
  {
   "cell_type": "code",
   "execution_count": null,
   "id": "21afb823",
   "metadata": {},
   "outputs": [],
   "source": []
  }
 ],
 "metadata": {
  "kernelspec": {
   "display_name": "Python 3 (ipykernel)",
   "language": "python",
   "name": "python3"
  },
  "language_info": {
   "codemirror_mode": {
    "name": "ipython",
    "version": 3
   },
   "file_extension": ".py",
   "mimetype": "text/x-python",
   "name": "python",
   "nbconvert_exporter": "python",
   "pygments_lexer": "ipython3",
   "version": "3.9.13"
  }
 },
 "nbformat": 4,
 "nbformat_minor": 5
}
